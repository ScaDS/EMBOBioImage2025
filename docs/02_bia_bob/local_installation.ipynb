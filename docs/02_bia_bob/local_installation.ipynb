{
 "cells": [
  {
   "cell_type": "markdown",
   "id": "dadba327-11b7-4f3e-8114-681ff64976ff",
   "metadata": {},
   "source": [
    "# Configuring Bia-bob\n",
    "We euquip Bia-bob with the open-weight model [gpt-oss-120b](https://huggingface.co/openai/gpt-oss-120b) hosted by academic LLM service providers. This file contains API-Keys for accessing LLM servers. We may use the server of [ScaDS.AI](https://scads.ai) at the [ZIH of TU Dresden](https://tu-dresden.de/zih) or the server of [KISSKI hosted by GWDG in Göttingen](https://kisski.gwdg.de/)."
   ]
  },
  {
   "cell_type": "markdown",
   "id": "5e9d4d17-186a-44f1-8bc2-c959553345f5",
   "metadata": {},
   "source": [
    "# Local installation\n",
    "In case you execute these notebooks from your local computer, unzip the api_key.zip into the same folder. Afterwards, there should be an `.env` file. Afterwards, uncomment these two code lines and execute the cell:"
   ]
  },
  {
   "cell_type": "code",
   "execution_count": null,
   "id": "e996a5be-1798-4c18-b7e8-c3e58be17851",
   "metadata": {},
   "outputs": [],
   "source": [
    "#from dotenv import load_dotenv\n",
    "#load_dotenv()"
   ]
  },
  {
   "cell_type": "markdown",
   "id": "9e41c2a1-4c40-4362-bd8e-32e7b28b5c98",
   "metadata": {},
   "source": [
    "## ScaDS.AI LLM service"
   ]
  },
  {
   "cell_type": "code",
   "execution_count": null,
   "id": "3c2aaa1f-a8b0-4210-88ef-fd4cf3c32043",
   "metadata": {
    "tags": []
   },
   "outputs": [],
   "source": [
    "import os\n",
    "from bia_bob import bob\n",
    "bob.initialize(endpoint='https://llm.scads.ai/v1', model='openai/gpt-oss-120b', api_key=os.environ.get('SCADSAI_API_KEY'))"
   ]
  },
  {
   "cell_type": "code",
   "execution_count": null,
   "id": "e5d24b44-bff0-400a-9d1f-c971880e8f73",
   "metadata": {},
   "outputs": [],
   "source": [
    "%bob print hello world"
   ]
  },
  {
   "cell_type": "markdown",
   "id": "8ad1c7eb-74bf-47fd-b406-a5f41d9f600f",
   "metadata": {},
   "source": [
    "## KISSKI ChatAI LLM service"
   ]
  },
  {
   "cell_type": "code",
   "execution_count": null,
   "id": "612792c8-306f-4f72-adad-05aa96e4efee",
   "metadata": {},
   "outputs": [],
   "source": [
    "import os\n",
    "from bia_bob import bob\n",
    "bob.initialize(endpoint='https://chat-ai.academiccloud.de/v1', model='openai-gpt-oss-120b', api_key=os.environ.get('KISSKI_API_KEY'))"
   ]
  },
  {
   "cell_type": "code",
   "execution_count": null,
   "id": "0e093e17-3358-4795-aba4-84958186615f",
   "metadata": {},
   "outputs": [],
   "source": [
    "%bob print hello world"
   ]
  },
  {
   "cell_type": "code",
   "execution_count": null,
   "id": "553b537a-a3c7-463f-9c28-30d93847c0c0",
   "metadata": {},
   "outputs": [],
   "source": []
  }
 ],
 "metadata": {
  "kernelspec": {
   "display_name": "Python 3 (ipykernel)",
   "language": "python",
   "name": "python3"
  },
  "language_info": {
   "codemirror_mode": {
    "name": "ipython",
    "version": 3
   },
   "file_extension": ".py",
   "mimetype": "text/x-python",
   "name": "python",
   "nbconvert_exporter": "python",
   "pygments_lexer": "ipython3",
   "version": "3.11.13"
  }
 },
 "nbformat": 4,
 "nbformat_minor": 5
}
